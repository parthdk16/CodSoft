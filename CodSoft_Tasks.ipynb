{
  "nbformat": 4,
  "nbformat_minor": 0,
  "metadata": {
    "colab": {
      "provenance": []
    },
    "kernelspec": {
      "name": "python3",
      "display_name": "Python 3"
    },
    "language_info": {
      "name": "python"
    }
  },
  "cells": [
    {
      "cell_type": "markdown",
      "source": [
        "# Parth D. Kulkarni\n",
        "**CodSoft Internship - Python Programming**"
      ],
      "metadata": {
        "id": "eADJt98W7CBT"
      }
    },
    {
      "cell_type": "markdown",
      "source": [
        "# Task 2 - Calculator"
      ],
      "metadata": {
        "id": "0cl9msWUB96g"
      }
    },
    {
      "cell_type": "code",
      "execution_count": null,
      "metadata": {
        "colab": {
          "base_uri": "https://localhost:8080/"
        },
        "id": "CUddGWi8B3Vn",
        "outputId": "c7227ebc-8644-4090-ce21-a398c68534b5"
      },
      "outputs": [
        {
          "name": "stdout",
          "output_type": "stream",
          "text": [
            "\n",
            "1. Addition\n",
            "2. Subtraction\n",
            "3. Multiplication\n",
            "4. Division\n",
            "Enter your choice: 1\n",
            "Enter first number:5\n",
            "Enter second number:2\n",
            "Addition = 7\n",
            "\n",
            "\n",
            "Do you want to continue? (1. Yes, 2. No): 1\n",
            "\n",
            "1. Addition\n",
            "2. Subtraction\n",
            "3. Multiplication\n",
            "4. Division\n",
            "Enter your choice: 2\n",
            "Enter first number:7\n",
            "Enter second number:3\n",
            "Subtraction = 4\n",
            "\n",
            "\n",
            "Do you want to continue? (1. Yes, 2. No): 1\n",
            "\n",
            "1. Addition\n",
            "2. Subtraction\n",
            "3. Multiplication\n",
            "4. Division\n",
            "Enter your choice: 3\n",
            "Enter first number:7\n",
            "Enter second number:14\n",
            "Multiplication = 98\n",
            "\n",
            "\n",
            "Do you want to continue? (1. Yes, 2. No): 1\n",
            "\n",
            "1. Addition\n",
            "2. Subtraction\n",
            "3. Multiplication\n",
            "4. Division\n",
            "Enter your choice: 4\n",
            "Enter first number:24\n",
            "Enter second number:4\n",
            "Division = 6.0\n",
            "\n",
            "\n",
            "Do you want to continue? (1. Yes, 2. No): 1\n",
            "\n",
            "1. Addition\n",
            "2. Subtraction\n",
            "3. Multiplication\n",
            "4. Division\n",
            "Enter your choice: 1\n",
            "Enter first number:56\n",
            "Enter second number:37\n",
            "Addition = 93\n",
            "\n",
            "\n",
            "Do you want to continue? (1. Yes, 2. No): 2\n"
          ]
        }
      ],
      "source": [
        "k=1     #if k=1 then the program will get re-executed or else terminated\n",
        "while k==1:\n",
        "  c=int(input(\"\\n1. Addition\\n2. Subtraction\\n3. Multiplication\\n4. Division\\nEnter your choice: \"))\n",
        "  if c in range(1,5):     # Checks for if inputted 'c' is in between 1 and 4\n",
        "    a=int(input(\"Enter first number:\"))       # Inputs first number\n",
        "    b=int(input(\"Enter second number:\"))      # Inputs second number\n",
        "    if c==1:                                  # Next statements will be executed based on the value of 'c'\n",
        "      print(\"Addition =\",a+b)\n",
        "    elif c==2:\n",
        "      print(\"Subtraction =\",a-b)\n",
        "    elif c==3:\n",
        "      print(\"Multiplication =\",a*b)\n",
        "    else:\n",
        "      print(\"Division =\",a/b)\n",
        "  else:                                      # Executes if 'c' is not in between 1 and 4\n",
        "    print(\"Invalid option!!\")\n",
        "\n",
        "  print(\"\\n\")\n",
        "\n",
        "  k=int(input(\"Do you want to continue? (1. Yes, 2. No): \"))      # Asks for value of 'k'"
      ]
    },
    {
      "cell_type": "markdown",
      "source": [
        "# Task 3 - Password Generator"
      ],
      "metadata": {
        "id": "THASipq-fsWD"
      }
    },
    {
      "cell_type": "code",
      "source": [
        "# Importing necessary libraries\n",
        "import random\n",
        "import string\n",
        "\n",
        "# Function to shuffle characters in a string\n",
        "def shuffle(name):\n",
        "    char_list = list(name)\n",
        "    random.shuffle(char_list)\n",
        "    shuffled_string = ''.join(char_list)\n",
        "    return shuffled_string\n",
        "\n",
        "# Function to get the first half of a string\n",
        "def half(input_string):\n",
        "    length = len(input_string)\n",
        "    split_index = length // 2\n",
        "    half_chars = input_string[:split_index]\n",
        "    return half_chars\n",
        "\n",
        "# Function to generate a password based on given length and complexity\n",
        "def generate(length, comp):\n",
        "    # Asking the user if they want to include any key in the password\n",
        "    a = int(input(\"Do you want to include any key in the password (Name, DOB, etc)? (1 for yes): \"))\n",
        "\n",
        "    # If the user wants to include a key\n",
        "    if a == 1:\n",
        "        # Getting the key from the user\n",
        "        b = str(input(\"Enter key: \"))\n",
        "        n = 1\n",
        "        # If the key is longer than the desired password length, take only the first half\n",
        "        if len(b) > length:\n",
        "            b = half(b)\n",
        "    else:\n",
        "        # If the user doesn't want to include a key\n",
        "        b = ''\n",
        "        n = 0\n",
        "\n",
        "    # Generating password based on complexity level\n",
        "    if comp == 1:\n",
        "        num = ''.join(random.choice(string.digits) for i in range(length - len(b)))\n",
        "        password = b + num\n",
        "\n",
        "    elif comp == 2:\n",
        "        num = ''.join(random.choice(string.digits) for i in range(length // 2 - len(b) // 2))\n",
        "        let = ''.join(random.choice(string.ascii_letters) for i in range(length - len(b) - length // 2 + len(b) // 2))\n",
        "        trial = num + let\n",
        "        shuffled_trial = shuffle(trial)\n",
        "        password = b + shuffled_trial\n",
        "\n",
        "    elif comp == 3:\n",
        "        num = ''.join(random.choice(string.digits) for i in range(length // 3 - len(b) // 3))\n",
        "        let = ''.join(random.choice(string.ascii_letters) for i in range(length // 3))\n",
        "        pun = ''.join(random.choice(string.punctuation) for i in range(length - len(b) - 2 * length // 3 + 2 * len(b) // 3))\n",
        "        password = num + let + pun\n",
        "\n",
        "    elif comp == 4:\n",
        "        num = ''.join(random.choice(string.digits) for i in range(length // 4))\n",
        "        pun = ''.join(random.choice(string.punctuation) for i in range(length // 4))\n",
        "        upr = ''.join(random.choice(string.ascii_uppercase) for i in range(length // 4))\n",
        "        lwr = ''.join(random.choice(string.ascii_lowercase) for i in range(length // 4))\n",
        "        password = num + pun + upr + lwr\n",
        "\n",
        "    else:\n",
        "        num = ''.join(random.choice(string.digits) for i in range(length // 4))\n",
        "        pun = ''.join(random.choice(string.punctuation) for i in range(length // 4))\n",
        "        upr = ''.join(random.choice(string.ascii_uppercase) for i in range(length // 4))\n",
        "        lwr = ''.join(random.choice(string.ascii_lowercase) for i in range(length - 3 * (length // 4)))\n",
        "        password = num + pun + upr + lwr\n",
        "\n",
        "    # If a key was not included, shuffle the generated password\n",
        "    if n != 1:\n",
        "        shuffled_password = shuffle(password)\n",
        "    else:\n",
        "        shuffled_password = password\n",
        "\n",
        "    return shuffled_password[:length]\n",
        "\n",
        "# Taking user input for password length and complexity level\n",
        "l = int(input(\"Enter the length of the password: \"))\n",
        "c = int(input(\"1. Very weak\\t2. Weak\\t3. Medium\\t4. Strong\\t5. Very strong\\t\\tOther Very Strong\\nEnter the complexity: \"))\n",
        "\n",
        "# Generating and printing the password\n",
        "generated_password = generate(l, c)\n",
        "print(\"Generated Password:\", generated_password)\n"
      ],
      "metadata": {
        "id": "T9bBJ4lZ4kBi",
        "colab": {
          "base_uri": "https://localhost:8080/"
        },
        "outputId": "45941642-f67a-4c59-995c-a75d23f35d30"
      },
      "execution_count": null,
      "outputs": [
        {
          "output_type": "stream",
          "name": "stdout",
          "text": [
            "Enter the length of the password: 8\n",
            "1. Very weak\t2. Weak\t3. Medium\t4. Strong\t5. Very strong\t\tOther Very Strong\n",
            "Enter the complexity: 9\n",
            "Do you want to include any key in the password (Name, DOB, etc)? (1 for yes): 0\n",
            "Generated Password: 83s=Nq&R\n"
          ]
        }
      ]
    },
    {
      "cell_type": "markdown",
      "source": [
        "# Task 4 - Rock-Paper-Scissor Game"
      ],
      "metadata": {
        "id": "gE_DRjCG9WDD"
      }
    },
    {
      "cell_type": "code",
      "source": [
        "import random\n",
        "\n",
        "# Function to get the user's choice\n",
        "def get_user_choice():\n",
        "    # Prompt the user to choose between rock, paper, or scissor\n",
        "    user = int(input(\"Choose 1. rock, 2. paper, or 3. scissor: \"))\n",
        "\n",
        "    # Validate user input to ensure it's a valid choice\n",
        "    while user not in [1, 2, 3]:\n",
        "        print(\"Invalid choice. Please choose rock, paper, or scissor.\")\n",
        "        user = int(input(\"Choose 1. rock, 2. paper, or 3. scissor: \"))\n",
        "\n",
        "    # Map the numeric choice to the corresponding string choice\n",
        "    if user == 1:\n",
        "        userc = 'rock'\n",
        "    elif user == 2:\n",
        "        userc = 'paper'\n",
        "    else:\n",
        "        userc = 'scissor'\n",
        "\n",
        "    # Return the user's choice\n",
        "    return userc\n",
        "\n",
        "# Function to get the computer's choice\n",
        "def get_comp_choice():\n",
        "    # Randomly select rock, paper, or scissor for the computer\n",
        "    return random.choice(['rock', 'paper', 'scissor'])\n",
        "\n",
        "# Function to determine the winner\n",
        "def winner(userc, compc):\n",
        "    # Check for a tie\n",
        "    if userc == compc:\n",
        "        return 'It\\'s a tie!'\n",
        "    # Check for user victory\n",
        "    elif (\n",
        "        (userc == 'rock' and compc == 'scissor') or\n",
        "        (userc == 'scissor' and compc == 'paper') or\n",
        "        (userc == 'paper' and compc == 'rock')\n",
        "    ):\n",
        "        return 'You win!'\n",
        "    # If not a tie or user victory, it's a computer victory\n",
        "    else:\n",
        "        return 'You lose!'\n",
        "\n",
        "# Main program\n",
        "print(\"Let's play Rock-Paper-Scissors!\")\n",
        "\n",
        "# Get user and computer choices\n",
        "userc = get_user_choice()\n",
        "compc = get_comp_choice()\n",
        "\n",
        "# Display choices\n",
        "print(f\"\\nYou chose   : {userc}\")\n",
        "print(f\"Computer chose: {compc}\")\n",
        "\n",
        "# Determine the winner and print the result\n",
        "result = winner(userc, compc)\n",
        "print(result)\n"
      ],
      "metadata": {
        "colab": {
          "base_uri": "https://localhost:8080/"
        },
        "id": "BKuvieaUyM6H",
        "outputId": "d1c0f5e7-9be9-4998-c3f6-512b30b69e68"
      },
      "execution_count": null,
      "outputs": [
        {
          "output_type": "stream",
          "name": "stdout",
          "text": [
            "Let's play Rock-Paper-Scissors!\n",
            "Choose 1. rock, 2. paper, or 3. scissor: 3\n",
            "\n",
            "You chose   : scissor\n",
            "Computer chose: paper\n",
            "You win!\n"
          ]
        }
      ]
    }
  ]
}